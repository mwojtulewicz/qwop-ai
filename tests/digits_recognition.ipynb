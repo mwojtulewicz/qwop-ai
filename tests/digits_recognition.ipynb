{
 "cells": [
  {
   "cell_type": "code",
   "execution_count": 2,
   "metadata": {},
   "outputs": [],
   "source": [
    "# import the necessary packages\n",
    "from imutils.perspective import four_point_transform\n",
    "from imutils import contours\n",
    "import imutils\n",
    "import cv2\n",
    "# define the dictionary of digit segments so we can identify\n",
    "# each digit on the thermostat\n",
    "\n",
    "DIGITS_LOOKUP = {\n",
    "\t(1, 1, 1, 0, 1, 1, 1): 0,\n",
    "\t(0, 0, 1, 0, 0, 1, 0): 1,\n",
    "\t(1, 0, 1, 1, 1, 1, 0): 2,\n",
    "\t(1, 0, 1, 1, 0, 1, 1): 3,\n",
    "\t(0, 1, 1, 1, 0, 1, 0): 4,\n",
    "\t(1, 1, 0, 1, 0, 1, 1): 5,\n",
    "\t(1, 1, 0, 1, 1, 1, 1): 6,\n",
    "\t(1, 0, 1, 0, 0, 1, 0): 7,\n",
    "\t(1, 1, 1, 1, 1, 1, 1): 8,\n",
    "\t(1, 1, 1, 1, 0, 1, 1): 9\n",
    "}"
   ]
  },
  {
   "cell_type": "code",
   "execution_count": 130,
   "metadata": {},
   "outputs": [
    {
     "name": "stdout",
     "output_type": "stream",
     "text": [
      "The time difference is : 0.5040478079999957\n",
      "Score:  0.2\n"
     ]
    },
    {
     "data": {
      "image/png": "[encoded data removed]",
      "text/plain": [
       "<Figure size 432x288 with 1 Axes>"
      ]
     },
     "metadata": {
      "needs_background": "light"
     },
     "output_type": "display_data"
    }
   ],
   "source": [
    "import cv2\n",
    "from matplotlib import pyplot as plt\n",
    "import pytesseract\n",
    "import timeit\n",
    "\n",
    "image = cv2.imread(\"/Users/gabimatuszewska/Desktop/qwop_digits/score.png\",cv2.IMREAD_GRAYSCALE)\n",
    "\n",
    "def image_to_text(image):\n",
    "    text = pytesseract.image_to_string(image)\n",
    "    score = text.partition(' ')[0]\n",
    "    return score\n",
    "\n",
    "starttime = timeit.default_timer()\n",
    "# print(\"The start time is :\",starttime)\n",
    "score = image_to_text(image)\n",
    "print(\"The time difference is :\", timeit.default_timer() - starttime)\n",
    "\n",
    "plt.imshow(image,'gray')\n",
    "print(\"Score: \", score)"
   ]
  },
  {
   "cell_type": "code",
   "execution_count": 112,
   "metadata": {},
   "outputs": [],
   "source": [
    "mask = np.zeros(image.shape, dtype=np.uint8)\n",
    "# gray = cv2.cvtColor(img, cv2.COLOR_BGR2GRAY)\n",
    "r,thresh = cv2.threshold(image,0,255,cv2.THRESH_BINARY+cv2.THRESH_OTSU)\n",
    "\n",
    "\n",
    "cnts = cv2.findContours(thresh, cv2.RETR_TREE, cv2.CHAIN_APPROX_SIMPLE)\n",
    "cnts = cnts[0] if len(cnts) == 2 else cnts[1]\n",
    "(cnts, _) = contours.sort_contours(cnts, method=\"left-to-right\")\n",
    "ROI_number = 0\n",
    "for c in cnts:\n",
    "    area = cv2.contourArea(c)\n",
    "    if area < 800 and area > 200:\n",
    "        x,y,w,h = cv2.boundingRect(c)\n",
    "        ROI = 255 - thresh[y:y+h, x:x+w]\n",
    "        cv2.drawContours(mask, [c], -1, (255,255,255), -1)\n",
    "        cv2.imwrite('ROI_{}.png'.format(ROI_number), ROI)\n",
    "        ROI_number += 1\n",
    "\n",
    "# plt.imshow('mask', mask)\n",
    "# plt.show()\n",
    "# plt.imshow('thresh', thresh)"
   ]
  },
  {
   "cell_type": "code",
   "execution_count": 90,
   "metadata": {},
   "outputs": [],
   "source": [
    "cnts = cv2.findContours(image.copy(), cv2.RETR_EXTERNAL,\n",
    "\tcv2.CHAIN_APPROX_SIMPLE)\n",
    "# plt.imshow(cnts,'gray')\n",
    "cnts = imutils.grab_contours(cnts)\n",
    "cnts = sorted(cnts, key=cv2.contourArea, reverse=True)\n",
    "displayCnt = None\n",
    "# # loop over the contours\n",
    "for c in cnts:\n",
    "\t# approximate the contour\n",
    "\tperi = cv2.arcLength(c, True)\n",
    "\tapprox = cv2.approxPolyDP(c, 0.02 * peri, True)\n",
    "\t# if the contour has four vertices, then we have found\n",
    "\t# the thermostat display\n",
    "\tif len(approx) == 4:\n",
    "\t\tdisplayCnt = approx\n",
    "\t\tbreak"
   ]
  },
  {
   "cell_type": "code",
   "execution_count": 42,
   "metadata": {},
   "outputs": [],
   "source": [
    "warped = four_point_transform(image, displayCnt.reshape(4, 2))\n",
    "output = four_point_transform(image, displayCnt.reshape(4, 2))"
   ]
  },
  {
   "cell_type": "code",
   "execution_count": 43,
   "metadata": {},
   "outputs": [],
   "source": [
    "thresh = cv2.threshold(warped, 0, 255,\n",
    "\tcv2.THRESH_BINARY_INV | cv2.THRESH_OTSU)[1]\n",
    "kernel = cv2.getStructuringElement(cv2.MORPH_ELLIPSE, (1, 5))\n",
    "thresh = cv2.morphologyEx(thresh, cv2.MORPH_OPEN, kernel)"
   ]
  },
  {
   "cell_type": "code",
   "execution_count": 44,
   "metadata": {},
   "outputs": [],
   "source": [
    "# find contours in the thresholded image, then initialize the\n",
    "# digit contours lists\n",
    "cnts = cv2.findContours(thresh.copy(), cv2.RETR_EXTERNAL,\n",
    "\tcv2.CHAIN_APPROX_SIMPLE)\n",
    "cnts = imutils.grab_contours(cnts)\n",
    "digitCnts = []\n",
    "# loop over the digit area candidates\n",
    "for c in cnts:\n",
    "\t# compute the bounding box of the contour\n",
    "\t(x, y, w, h) = cv2.boundingRect(c)\n",
    "\t# if the contour is sufficiently large, it must be a digit\n",
    "\tif w >= 15 and (h >= 30 and h <= 40):\n",
    "\t\tdigitCnts.append(c)"
   ]
  },
  {
   "cell_type": "code",
   "execution_count": 45,
   "metadata": {},
   "outputs": [],
   "source": [
    "# sort the contours from left-to-right, then initialize the\n",
    "# actual digits themselves\n",
    "digitCnts = contours.sort_contours(digitCnts,\n",
    "\tmethod=\"left-to-right\")[0]\n",
    "digits = []"
   ]
  },
  {
   "cell_type": "code",
   "execution_count": 46,
   "metadata": {},
   "outputs": [],
   "source": [
    "# loop over each of the digits\n",
    "for c in digitCnts:\n",
    "\t# extract the digit ROI\n",
    "\t(x, y, w, h) = cv2.boundingRect(c)\n",
    "\troi = thresh[y:y + h, x:x + w]\n",
    "\t# compute the width and height of each of the 7 segments\n",
    "\t# we are going to examine\n",
    "\t(roiH, roiW) = roi.shape\n",
    "\t(dW, dH) = (int(roiW * 0.25), int(roiH * 0.15))\n",
    "\tdHC = int(roiH * 0.05)\n",
    "\t# define the set of 7 segments\n",
    "\tsegments = [\n",
    "\t\t((0, 0), (w, dH)),\t# top\n",
    "\t\t((0, 0), (dW, h // 2)),\t# top-left\n",
    "\t\t((w - dW, 0), (w, h // 2)),\t# top-right\n",
    "\t\t((0, (h // 2) - dHC) , (w, (h // 2) + dHC)), # center\n",
    "\t\t((0, h // 2), (dW, h)),\t# bottom-left\n",
    "\t\t((w - dW, h // 2), (w, h)),\t# bottom-right\n",
    "\t\t((0, h - dH), (w, h))\t# bottom\n",
    "\t]\n",
    "\ton = [0] * len(segments)"
   ]
  },
  {
   "cell_type": "code",
   "execution_count": 50,
   "metadata": {},
   "outputs": [
    {
     "data": {
      "text/plain": [
       "array([[  0,   0,   0, ...,   0,   0,   0],\n",
       "       [  0, 101, 101, ..., 101, 101, 101],\n",
       "       [  0, 100, 100, ..., 100, 100, 100],\n",
       "       ...,\n",
       "       [  0,  88,  88, ...,  88,  88,  88],\n",
       "       [  0,  88,  88, ...,  88,  88,  88],\n",
       "       [  0,  87,  87, ...,  87,  87,  87]], dtype=uint8)"
      ]
     },
     "execution_count": 50,
     "metadata": {},
     "output_type": "execute_result"
    }
   ],
   "source": [
    "# loop over the segments\n",
    "for (i, ((xA, yA), (xB, yB))) in enumerate(segments):\n",
    "\t\t# extract the segment ROI, count the total number of\n",
    "\t\t# thresholded pixels in the segment, and then compute\n",
    "\t\t# the area of the segment\n",
    "\t\tsegROI = roi[yA:yB, xA:xB]\n",
    "\t\ttotal = cv2.countNonZero(segROI)\n",
    "\t\tarea = (xB - xA) * (yB - yA)\n",
    "\t\t# if the total number of non-zero pixels is greater than\n",
    "\t\t# 50% of the area, mark the segment as \"on\"\n",
    "\t\tif total / float(area) > 0.5:\n",
    "\t\t\ton[i]= 1\n",
    "\t# lookup the digit and draw it on the image\n",
    "digit = DIGITS_LOOKUP[tuple(on)]\n",
    "digits.append(digit)\n",
    "cv2.rectangle(output, (x, y), (x + w, y + h), (0, 255, 0), 1)\n",
    "cv2.putText(output, str(digit), (x - 10, y - 10),\n",
    "    cv2.FONT_HERSHEY_SIMPLEX, 0.65, (0, 255, 0), 2)"
   ]
  },
  {
   "cell_type": "code",
   "execution_count": 51,
   "metadata": {},
   "outputs": [
    {
     "ename": "IndexError",
     "evalue": "Replacement index 1 out of range for positional args tuple",
     "output_type": "error",
     "traceback": [
      "\u001b[0;31m---------------------------------------------------------------------------\u001b[0m",
      "\u001b[0;31mIndexError\u001b[0m                                Traceback (most recent call last)",
      "\u001b[0;32m<ipython-input-51-7ec10df82c4a>\u001b[0m in \u001b[0;36m<module>\u001b[0;34m\u001b[0m\n\u001b[1;32m      1\u001b[0m \u001b[0;31m# display the digits\u001b[0m\u001b[0;34m\u001b[0m\u001b[0;34m\u001b[0m\u001b[0;34m\u001b[0m\u001b[0m\n\u001b[0;32m----> 2\u001b[0;31m \u001b[0mprint\u001b[0m\u001b[0;34m(\u001b[0m\u001b[0;34mu\"{}{}.{} \\u00b0C\"\u001b[0m\u001b[0;34m.\u001b[0m\u001b[0mformat\u001b[0m\u001b[0;34m(\u001b[0m\u001b[0;34m*\u001b[0m\u001b[0mdigits\u001b[0m\u001b[0;34m)\u001b[0m\u001b[0;34m)\u001b[0m\u001b[0;34m\u001b[0m\u001b[0;34m\u001b[0m\u001b[0m\n\u001b[0m\u001b[1;32m      3\u001b[0m \u001b[0mcv2\u001b[0m\u001b[0;34m.\u001b[0m\u001b[0mimshow\u001b[0m\u001b[0;34m(\u001b[0m\u001b[0;34m\"Input\"\u001b[0m\u001b[0;34m,\u001b[0m \u001b[0mimage\u001b[0m\u001b[0;34m)\u001b[0m\u001b[0;34m\u001b[0m\u001b[0;34m\u001b[0m\u001b[0m\n\u001b[1;32m      4\u001b[0m \u001b[0mcv2\u001b[0m\u001b[0;34m.\u001b[0m\u001b[0mimshow\u001b[0m\u001b[0;34m(\u001b[0m\u001b[0;34m\"Output\"\u001b[0m\u001b[0;34m,\u001b[0m \u001b[0moutput\u001b[0m\u001b[0;34m)\u001b[0m\u001b[0;34m\u001b[0m\u001b[0;34m\u001b[0m\u001b[0m\n\u001b[1;32m      5\u001b[0m \u001b[0mcv2\u001b[0m\u001b[0;34m.\u001b[0m\u001b[0mwaitKey\u001b[0m\u001b[0;34m(\u001b[0m\u001b[0;36m0\u001b[0m\u001b[0;34m)\u001b[0m\u001b[0;34m\u001b[0m\u001b[0;34m\u001b[0m\u001b[0m\n",
      "\u001b[0;31mIndexError\u001b[0m: Replacement index 1 out of range for positional args tuple"
     ]
    }
   ],
   "source": [
    "# display the digits\n",
    "print(u\"{}{}.{} \\u00b0C\".format(*digits))\n",
    "cv2.imshow(\"Input\", image)\n",
    "cv2.imshow(\"Output\", output)\n",
    "cv2.waitKey(0)"
   ]
  },
  {
   "cell_type": "code",
   "execution_count": null,
   "metadata": {},
   "outputs": [],
   "source": []
  }
 ],
 "metadata": {
  "kernelspec": {
   "display_name": "Python 3",
   "language": "python",
   "name": "python3"
  },
  "language_info": {
   "codemirror_mode": {
    "name": "ipython",
    "version": 3
   },
   "file_extension": ".py",
   "mimetype": "text/x-python",
   "name": "python",
   "nbconvert_exporter": "python",
   "pygments_lexer": "ipython3",
   "version": "3.8.5"
  }
 },
 "nbformat": 4,
 "nbformat_minor": 4
}
